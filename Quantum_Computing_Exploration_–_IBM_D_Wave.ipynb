{
  "nbformat": 4,
  "nbformat_minor": 0,
  "metadata": {
    "colab": {
      "provenance": [],
      "authorship_tag": "ABX9TyNLliGQQ5fQINYSAgS545Zl",
      "include_colab_link": true
    },
    "kernelspec": {
      "name": "python3",
      "display_name": "Python 3"
    },
    "language_info": {
      "name": "python"
    }
  },
  "cells": [
    {
      "cell_type": "markdown",
      "metadata": {
        "id": "view-in-github",
        "colab_type": "text"
      },
      "source": [
        "<a href=\"https://colab.research.google.com/github/custom-hyper/Quantum-Computing/blob/main/Quantum_Computing_Exploration_%E2%80%93_IBM_D_Wave.ipynb\" target=\"_parent\"><img src=\"https://colab.research.google.com/assets/colab-badge.svg\" alt=\"Open In Colab\"/></a>"
      ]
    },
    {
      "cell_type": "markdown",
      "source": [
        "[Evernote – Personal Research](https://www.evernote.com/shard/s611/sh/a77c145a-3360-2a8b-8dcc-0e13d73693c0/6c022161960573301910f1dc8780c057)"
      ],
      "metadata": {
        "id": "Lx7RjedgmAdj"
      }
    },
    {
      "cell_type": "markdown",
      "source": [
        "# IBM Quantum Computer"
      ],
      "metadata": {
        "id": "9LBvVax6hE92"
      }
    },
    {
      "cell_type": "code",
      "source": [
        "!pip install qiskit --quiet\n",
        "!pip install configparser --quiet\n",
        "!pip install requests --quiet"
      ],
      "metadata": {
        "id": "47zer9VRemfT",
        "colab": {
          "base_uri": "https://localhost:8080/"
        },
        "outputId": "e1360cf0-7d63-4be2-fd10-7d54a5f40d11"
      },
      "execution_count": null,
      "outputs": [
        {
          "output_type": "stream",
          "name": "stdout",
          "text": [
            "\u001b[2K   \u001b[90m━━━━━━━━━━━━━━━━━━━━━━━━━━━━━━━━━━━━━━━━\u001b[0m \u001b[32m4.8/4.8 MB\u001b[0m \u001b[31m13.6 MB/s\u001b[0m eta \u001b[36m0:00:00\u001b[0m\n",
            "\u001b[2K   \u001b[90m━━━━━━━━━━━━━━━━━━━━━━━━━━━━━━━━━━━━━━━━\u001b[0m \u001b[32m116.3/116.3 kB\u001b[0m \u001b[31m5.3 MB/s\u001b[0m eta \u001b[36m0:00:00\u001b[0m\n",
            "\u001b[2K   \u001b[90m━━━━━━━━━━━━━━━━━━━━━━━━━━━━━━━━━━━━━━━━\u001b[0m \u001b[32m2.0/2.0 MB\u001b[0m \u001b[31m23.9 MB/s\u001b[0m eta \u001b[36m0:00:00\u001b[0m\n",
            "\u001b[2K   \u001b[90m━━━━━━━━━━━━━━━━━━━━━━━━━━━━━━━━━━━━━━━━\u001b[0m \u001b[32m49.7/49.7 kB\u001b[0m \u001b[31m1.6 MB/s\u001b[0m eta \u001b[36m0:00:00\u001b[0m\n",
            "\u001b[2K   \u001b[90m━━━━━━━━━━━━━━━━━━━━━━━━━━━━━━━━━━━━━━━━\u001b[0m \u001b[32m39.4/39.4 MB\u001b[0m \u001b[31m10.9 MB/s\u001b[0m eta \u001b[36m0:00:00\u001b[0m\n",
            "\u001b[2K   \u001b[90m━━━━━━━━━━━━━━━━━━━━━━━━━━━━━━━━━━━━━━━━\u001b[0m \u001b[32m108.5/108.5 kB\u001b[0m \u001b[31m2.1 MB/s\u001b[0m eta \u001b[36m0:00:00\u001b[0m\n",
            "\u001b[?25h"
          ]
        }
      ]
    },
    {
      "cell_type": "code",
      "source": [
        "#@title Connect to File System/Access API key { display-mode: \"code\" }\n",
        "from google.colab import drive\n",
        "drive.mount('/content/drive')"
      ],
      "metadata": {
        "colab": {
          "base_uri": "https://localhost:8080/"
        },
        "id": "T4CDdhUTymby",
        "outputId": "7a53ef1d-ce55-44d9-9d63-42faed29afb7"
      },
      "execution_count": null,
      "outputs": [
        {
          "output_type": "stream",
          "name": "stdout",
          "text": [
            "Mounted at /content/drive\n"
          ]
        }
      ]
    },
    {
      "cell_type": "code",
      "source": [
        "import configparser\n",
        "import requests\n",
        "\n",
        "config_file = \"/content/drive/MyDrive/workspace/config.ini\"\n",
        "config_obj = configparser.ConfigParser()\n",
        "config_obj.read(config_file)\n",
        "\"\"\"\n",
        "IBM_api = config_obj[\"IBM_quantum\"]\n",
        "IBM_key = api[\"key\"]\n",
        "\n",
        "\"\"\"\n",
        "dwave_quantum_api = config_obj[\"d-wave_quantum\"]\n",
        "dwave_quantum_key = api[\"key\"]\n"
      ],
      "metadata": {
        "colab": {
          "base_uri": "https://localhost:8080/",
          "height": 315
        },
        "id": "dB-5shG_yzWL",
        "outputId": "d1d409cf-a6f0-4932-bbb2-478088a8b3b3"
      },
      "execution_count": null,
      "outputs": [
        {
          "output_type": "error",
          "ename": "KeyError",
          "evalue": "'d-wave_quantum'",
          "traceback": [
            "\u001b[0;31m---------------------------------------------------------------------------\u001b[0m",
            "\u001b[0;31mKeyError\u001b[0m                                  Traceback (most recent call last)",
            "\u001b[0;32m<ipython-input-4-429c86926d57>\u001b[0m in \u001b[0;36m<cell line: 12>\u001b[0;34m()\u001b[0m\n\u001b[1;32m     10\u001b[0m \u001b[0;34m\u001b[0m\u001b[0m\n\u001b[1;32m     11\u001b[0m \"\"\"\n\u001b[0;32m---> 12\u001b[0;31m \u001b[0mdwave_quantum_api\u001b[0m \u001b[0;34m=\u001b[0m \u001b[0mconfig_obj\u001b[0m\u001b[0;34m[\u001b[0m\u001b[0;34m\"d-wave_quantum\"\u001b[0m\u001b[0;34m]\u001b[0m\u001b[0;34m\u001b[0m\u001b[0;34m\u001b[0m\u001b[0m\n\u001b[0m\u001b[1;32m     13\u001b[0m \u001b[0mdwave_quantum_key\u001b[0m \u001b[0;34m=\u001b[0m \u001b[0mapi\u001b[0m\u001b[0;34m[\u001b[0m\u001b[0;34m\"key\"\u001b[0m\u001b[0;34m]\u001b[0m\u001b[0;34m\u001b[0m\u001b[0;34m\u001b[0m\u001b[0m\n",
            "\u001b[0;32m/usr/lib/python3.10/configparser.py\u001b[0m in \u001b[0;36m__getitem__\u001b[0;34m(self, key)\u001b[0m\n\u001b[1;32m    963\u001b[0m     \u001b[0;32mdef\u001b[0m \u001b[0m__getitem__\u001b[0m\u001b[0;34m(\u001b[0m\u001b[0mself\u001b[0m\u001b[0;34m,\u001b[0m \u001b[0mkey\u001b[0m\u001b[0;34m)\u001b[0m\u001b[0;34m:\u001b[0m\u001b[0;34m\u001b[0m\u001b[0;34m\u001b[0m\u001b[0m\n\u001b[1;32m    964\u001b[0m         \u001b[0;32mif\u001b[0m \u001b[0mkey\u001b[0m \u001b[0;34m!=\u001b[0m \u001b[0mself\u001b[0m\u001b[0;34m.\u001b[0m\u001b[0mdefault_section\u001b[0m \u001b[0;32mand\u001b[0m \u001b[0;32mnot\u001b[0m \u001b[0mself\u001b[0m\u001b[0;34m.\u001b[0m\u001b[0mhas_section\u001b[0m\u001b[0;34m(\u001b[0m\u001b[0mkey\u001b[0m\u001b[0;34m)\u001b[0m\u001b[0;34m:\u001b[0m\u001b[0;34m\u001b[0m\u001b[0;34m\u001b[0m\u001b[0m\n\u001b[0;32m--> 965\u001b[0;31m             \u001b[0;32mraise\u001b[0m \u001b[0mKeyError\u001b[0m\u001b[0;34m(\u001b[0m\u001b[0mkey\u001b[0m\u001b[0;34m)\u001b[0m\u001b[0;34m\u001b[0m\u001b[0;34m\u001b[0m\u001b[0m\n\u001b[0m\u001b[1;32m    966\u001b[0m         \u001b[0;32mreturn\u001b[0m \u001b[0mself\u001b[0m\u001b[0;34m.\u001b[0m\u001b[0m_proxies\u001b[0m\u001b[0;34m[\u001b[0m\u001b[0mkey\u001b[0m\u001b[0;34m]\u001b[0m\u001b[0;34m\u001b[0m\u001b[0;34m\u001b[0m\u001b[0m\n\u001b[1;32m    967\u001b[0m \u001b[0;34m\u001b[0m\u001b[0m\n",
            "\u001b[0;31mKeyError\u001b[0m: 'd-wave_quantum'"
          ]
        }
      ]
    },
    {
      "cell_type": "markdown",
      "source": [
        "In this example, we first load your IBM Q account by calling IBMQ.load_account(). Then, we create a quantum circuit with two qubits and two classical bits. The circuit consists of a Hadamard gate on the first qubit, followed by a CNOT gate that controls the second qubit with the first. The second qubit is then rotated by an angle of 0.3 radians using a RY gate. Finally, both qubits are measured and the results are stored in the classical register.\n",
        "\n",
        "The program then finds the least busy real quantum backend available from IBM Q by calling least_busy and selecting the best backend from a list of backends that have at least two qubits and are operational. The circuit is then executed on this backend with 1024 shots, and the results are printed."
      ],
      "metadata": {
        "id": "FUEJ11GCgShP"
      }
    },
    {
      "cell_type": "markdown",
      "source": [
        "D-wave# New Section"
      ],
      "metadata": {
        "id": "oYpNHNPvwowC"
      }
    },
    {
      "cell_type": "code",
      "execution_count": null,
      "metadata": {
        "id": "iad80C45edJC"
      },
      "outputs": [],
      "source": [
        "from qiskit import QuantumCircuit, ClassicalRegister, QuantumRegister\n",
        "from qiskit import execute\n",
        "from qiskit.providers.ibmq import least_busy\n",
        "from qiskit import IBMQ\n",
        "\n",
        "# Load your IBM Q account\n",
        "provider = IBMQ.enable_account('36264f5ffe9d53a82c16af7da036f3e380dc5b0006bde3fc6bc9a58fcd0e89ef1cfa4305c6494c158ee43bec7021570f1007db555a02fbecae443d3296482abe')\n",
        "\n",
        "backend = provider.get_backend('ibmq_qasm_simulator')\n",
        "\n",
        "# Create a Quantum Register with 2 qubits\n",
        "q = QuantumRegister(2)\n",
        "\n",
        "# Create a Classical Register with 2 bits\n",
        "c = ClassicalRegister(2)\n",
        "\n",
        "# Create a Quantum Circuit\n",
        "qc = QuantumCircuit(q, c)\n",
        "\n",
        "# Add a Hadamard gate to the first qubit\n",
        "qc.h(q[0])\n",
        "\n",
        "# Add a CNOT gate to control the second qubit with the first\n",
        "qc.cx(q[0], q[1])\n",
        "\n",
        "# Add a RY gate to the second qubit with an angle of 0.3 radians\n",
        "qc.ry(0.3, q[1])\n",
        "\n",
        "# Measure both qubits and store the results in the classical register\n",
        "qc.measure(q, c)\n",
        "\n",
        "# Get the least busy real quantum backend\n",
        "IBMQ.backends()\n",
        "provider = IBMQ.get_provider(group='open')\n",
        "backend = least_busy(provider.backends(filters=lambda x: x.configuration().n_qubits >= 2 and not x.configuration().simulator and x.status().operational == True))\n",
        "print(\"The best backend is \" + backend.name())\n",
        "\n",
        "# Execute the circuit on a real quantum backend\n",
        "job = execute(qc, backend, shots=1024)\n",
        "result = job.result()\n",
        "counts = result.get_counts(qc)\n",
        "\n",
        "# Print the results\n",
        "print(\"Results: \", counts)\n"
      ]
    },
    {
      "cell_type": "markdown",
      "source": [
        "# D-wave"
      ],
      "metadata": {
        "id": "ITK9yghJifn3"
      }
    },
    {
      "cell_type": "markdown",
      "source": [
        "In this example, we define a simple graph with 6 vertices and 8 edges, and we want to find the maximum cut in the graph."
      ],
      "metadata": {
        "id": "C498GSdghsCW"
      }
    },
    {
      "cell_type": "code",
      "source": [
        "!pip install networkx matplotlib dimod dwave-ocean-sdk --quiet\n",
        "\n",
        "import dimod\n",
        "import networkx as nx\n",
        "import matplotlib.pyplot as plt\n",
        "from dwave.system.samplers import DWaveSampler\n",
        "from dwave.system.composites import EmbeddingComposite\n",
        "\n"
      ],
      "metadata": {
        "id": "c48VAjjsiuO8"
      },
      "execution_count": null,
      "outputs": []
    },
    {
      "cell_type": "code",
      "source": [
        "import dimod\n",
        "from dwave.system.samplers import DWaveSampler\n",
        "from dwave.system.composites import EmbeddingComposite\n",
        "\n",
        "# Define the edges in a graph\n",
        "edges = [(0, 1), (0, 2), (1, 2), (1, 3), (2, 4), (3, 4), (3, 5), (4, 5)]\n",
        "\n",
        "# Define the QUBO (Quadratic Unconstrained Binary Optimization) problem\n",
        "linear = {v: 0 for v in range(6)}\n",
        "quadratic = {(u, v): 1 for u, v in edges}\n",
        "\n",
        "# Convert the QUBO to a BQM (Binary Quadratic Model)\n",
        "bqm = dimod.BinaryQuadraticModel(linear, quadratic, 0.0, dimod.BINARY)\n",
        "\n",
        "# Solve the problem using the D-Wave quantum computer\n",
        "sampler = DWaveSampler()\n",
        "response = EmbeddingComposite(sampler).sample(bqm, num_reads=10)\n",
        "\n",
        "# Print the solutions\n",
        "for sample, energy, num_occurrences in response.data(['sample', 'energy', 'num_occurrences']):\n",
        "    print(sample, energy, num_occurrences)"
      ],
      "metadata": {
        "id": "_MTvh-4oiItc"
      },
      "execution_count": null,
      "outputs": []
    },
    {
      "cell_type": "code",
      "source": [
        "import dimod\n",
        "import networkx as nx\n",
        "import matplotlib.pyplot as plt\n",
        "from dwave.system.samplers import DWaveSampler\n",
        "from dwave.system.composites import EmbeddingComposite\n",
        "\n",
        "# Define the edges in a graph\n",
        "edges = [(0, 1), (0, 2), (1, 2), (1, 3), (2, 4), (3, 4), (3, 5), (4, 5)]\n",
        "\n",
        "# Define the QUBO (Quadratic Unconstrained Binary Optimization) problem\n",
        "linear = {v: 0 for v in range(6)}\n",
        "quadratic = {(u, v): 1 for u, v in edges}\n",
        "\n",
        "# Convert the QUBO to a BQM (Binary Quadratic Model)\n",
        "bqm = dimod.BinaryQuadraticModel(linear, quadratic, 0.0, dimod.BINARY)\n",
        "\n",
        "# Solve the problem using the D-Wave quantum computer\n",
        "sampler = DWaveSampler()\n",
        "response = EmbeddingComposite(sampler).sample(bqm, num_reads=10)\n",
        "\n",
        "# Plot the graph using networkx\n",
        "G = nx.Graph()\n",
        "G.add_edges_from(edges)\n",
        "nx.draw(G, with_labels=True)\n",
        "plt.show()\n"
      ],
      "metadata": {
        "id": "ULCLYo8SijDw"
      },
      "execution_count": null,
      "outputs": []
    }
  ]
}